{
 "cells": [
  {
   "cell_type": "markdown",
   "id": "cf407167",
   "metadata": {},
   "source": [
    "#  MLOps Manual to Repeatable Workflow\n",
    "\n",
    "<div class=\"alert alert-warning\"> \n",
    "\t⚠️ <strong> PRE-REQUISITE: </strong> Before proceeding with this notebook, please ensure that you have executed the <code>1-data-prep-feature-store.ipynb</code> and <code>2-training-registry.ipynb</code> Notebooks</li>\n",
    "</div>"
   ]
  },
  {
   "cell_type": "markdown",
   "id": "e970ad23",
   "metadata": {},
   "source": [
    "## Contents\n",
    "\n",
    "- [Introduction](#Introduction)\n",
    "- [SageMaker Endpoint](#SageMaker-Endpoint)"
   ]
  },
  {
   "cell_type": "markdown",
   "id": "7d8c0175",
   "metadata": {},
   "source": [
    "## Introduction"
   ]
  },
  {
   "cell_type": "markdown",
   "id": "56b3a205",
   "metadata": {},
   "source": [
    "This is our third notebook which will explore the model deployment of ML workflow.\n",
    "\n",
    "Here, we will put on the hat of a `Data Scientist` and will perform the task of model deployment which includes fetching the right model and deploying it for inference.  \n",
    "\n",
    "For this task we will be using Amazon SageMaker Model Hosting capabilities.\n",
    "\n",
    "Let's get started!"
   ]
  },
  {
   "cell_type": "markdown",
   "id": "b615372a",
   "metadata": {},
   "source": [
    "**Imports**"
   ]
  },
  {
   "cell_type": "code",
   "execution_count": null,
   "id": "0ae925fd",
   "metadata": {
    "tags": []
   },
   "outputs": [],
   "source": [
    "!pip install -U sagemaker"
   ]
  },
  {
   "cell_type": "code",
   "execution_count": null,
   "id": "cd74b8b1",
   "metadata": {
    "tags": []
   },
   "outputs": [],
   "source": [
    "%store -r"
   ]
  },
  {
   "cell_type": "code",
   "execution_count": null,
   "id": "336f2e2b",
   "metadata": {
    "tags": []
   },
   "outputs": [],
   "source": [
    "from urllib.parse import urlparse\n",
    "import io\n",
    "import time\n",
    "from sagemaker.model import ModelPackage\n",
    "import boto3\n",
    "import sagemaker\n",
    "from sagemaker.predictor import Predictor\n",
    "from sagemaker.serializers import CSVSerializer\n",
    "from sagemaker.deserializers import JSONDeserializer\n",
    "import numpy as np\n",
    "import pathlib\n",
    "from sagemaker.feature_store.feature_group import FeatureGroup"
   ]
  },
  {
   "cell_type": "markdown",
   "id": "026848fc",
   "metadata": {},
   "source": [
    "**Session variables**"
   ]
  },
  {
   "cell_type": "code",
   "execution_count": null,
   "id": "2e79aa4f",
   "metadata": {
    "tags": []
   },
   "outputs": [],
   "source": [
    "# Useful SageMaker variables\n",
    "sagemaker_session = sagemaker.Session()\n",
    "bucket = sagemaker_session.default_bucket()\n",
    "role_arn= sagemaker.get_execution_role()\n",
    "region = sagemaker_session.boto_region_name\n",
    "s3_client = boto3.client('s3', region_name=region)\n",
    "sagemaker_client = boto3.client('sagemaker')"
   ]
  },
  {
   "cell_type": "markdown",
   "id": "f894ee7c",
   "metadata": {},
   "source": [
    "## SageMaker Endpoint"
   ]
  },
  {
   "cell_type": "markdown",
   "id": "b0d15e67",
   "metadata": {},
   "source": [
    "You can also deploy your trained model as [SageMaker hosted endpoint](https://docs.aws.amazon.com/sagemaker/latest/dg/realtime-endpoints-deployment.html) which serves real-time predictions from a trained model. The endpoint will retrieve the model created during training and deploy it within a SageMaker scikit-learn container. This all can be accomplished with one line of code. Note that it will take several minutes to deploy the model to a hosted endpoint."
   ]
  },
  {
   "cell_type": "markdown",
   "id": "ea975b5f",
   "metadata": {},
   "source": [
    "Let's get the model we registered in the Model Registry."
   ]
  },
  {
   "cell_type": "code",
   "execution_count": null,
   "id": "c13cbf9e",
   "metadata": {
    "tags": []
   },
   "outputs": [],
   "source": [
    "random_forest_regressor_model = ModelPackage(\n",
    "    role_arn,\n",
    "    model_package_arn=model_package_arn,\n",
    "    name=model_name\n",
    ")"
   ]
  },
  {
   "cell_type": "markdown",
   "id": "8c702708",
   "metadata": {},
   "source": [
    "It's current status is `PendingApproval`. In order to use this model for offline predictions or as a real-time endpoint, we'll need to update its status to `Approved`."
   ]
  },
  {
   "cell_type": "code",
   "execution_count": null,
   "id": "2f358003",
   "metadata": {
    "tags": []
   },
   "outputs": [],
   "source": [
    "sagemaker_client.update_model_package(\n",
    "    ModelPackageArn=random_forest_regressor_model.model_package_arn,\n",
    "    ModelApprovalStatus='Approved'\n",
    ")"
   ]
  },
  {
   "cell_type": "markdown",
   "id": "40e21e90",
   "metadata": {},
   "source": [
    "Now we can deploy it!"
   ]
  },
  {
   "cell_type": "code",
   "execution_count": null,
   "id": "33ce6525",
   "metadata": {
    "tags": []
   },
   "outputs": [],
   "source": [
    "from IPython.core.display import display, HTML\n",
    "endpoint_name = f'{model_name}-endpoint-' + time.strftime('%Y-%m-%d-%H-%M-%S')\n",
    "display(\n",
    "    HTML(\n",
    "        '<b>Review <a target=\"blank\" href=\"https://console.aws.amazon.com/sagemaker/home?region={}#/endpoints/{}\">The Endpoint</a> After About 5 Minutes</b>'.format(\n",
    "            region, endpoint_name\n",
    "        )\n",
    "    )\n",
    ")\n",
    "random_forest_regressor_model.deploy(\n",
    "    initial_instance_count=1,\n",
    "    instance_type='ml.t2.medium',\n",
    "    endpoint_name=endpoint_name\n",
    ")"
   ]
  },
  {
   "cell_type": "markdown",
   "id": "5acac93a",
   "metadata": {},
   "source": [
    "Let's test this real-time endpoint by passing it some data and getting a real-time prediction back."
   ]
  },
  {
   "cell_type": "markdown",
   "id": "9b26bbd1",
   "metadata": {},
   "source": [
    "## Read from offline Feature Store"
   ]
  },
  {
   "cell_type": "code",
   "execution_count": null,
   "id": "2d31110b",
   "metadata": {
    "tags": []
   },
   "outputs": [],
   "source": [
    "# Read in test set that was used for batch transform\n",
    "fs_group = FeatureGroup(name=test_feature_group_name, sagemaker_session=sagemaker_session)  \n",
    "query = fs_group.athena_query()\n",
    "table = query.table_name\n",
    "query_string = f'SELECT {features_to_select} FROM \"sagemaker_featurestore\".\"{table}\"  ORDER BY record_id'\n",
    "query_results = 'sagemaker-featurestore'\n",
    "output_location = f's3://{bucket}/{query_results}/query_results/'\n",
    "query.run(\n",
    "    query_string=query_string, \n",
    "    output_location=output_location\n",
    ")\n",
    "query.wait()\n",
    "df = query.as_dataframe()\n",
    "df.head()"
   ]
  },
  {
   "cell_type": "code",
   "execution_count": null,
   "id": "b0390dfd",
   "metadata": {
    "tags": []
   },
   "outputs": [],
   "source": [
    "# Attach to the SageMaker endpoint\n",
    "predictor = Predictor(\n",
    "    endpoint_name=endpoint_name,\n",
    "    sagemaker_session=sagemaker_session,\n",
    "    serializer=CSVSerializer(),\n",
    "    deserializer=JSONDeserializer()\n",
    ")\n",
    "\n",
    "dropped_df = df.drop(columns=[\"price\"])\n",
    "\n",
    "# Get a real-time prediction (only predicting the 1st 5 columns to reduce output size)\n",
    "predictor.predict(dropped_df[:5].to_csv(index=False, header=False))"
   ]
  },
  {
   "cell_type": "markdown",
   "id": "cf201240",
   "metadata": {},
   "source": [
    "## Read from online Feature Store"
   ]
  },
  {
   "cell_type": "code",
   "execution_count": null,
   "id": "26156d40",
   "metadata": {
    "tags": []
   },
   "outputs": [],
   "source": [
    "boto_session = boto3.Session()\n",
    "featurestore_runtime = boto_session.client(service_name='sagemaker-featurestore-runtime')"
   ]
  },
  {
   "cell_type": "markdown",
   "id": "f177fdc9",
   "metadata": {},
   "source": [
    "### Helper functions to read from online Feature Store"
   ]
  },
  {
   "cell_type": "code",
   "execution_count": null,
   "id": "3fd3ae3b",
   "metadata": {
    "tags": []
   },
   "outputs": [],
   "source": [
    "def _record_to_dict(rec, feature_types):\n",
    "    tmp_dict = {}\n",
    "    for f in rec:\n",
    "        feature_name = f['FeatureName']\n",
    "        string_feature_val = f['ValueAsString']\n",
    "        feature_type = feature_types[feature_name]\n",
    "        \n",
    "        if feature_type == 'Integral':\n",
    "            tmp_dict[f['FeatureName']] = int(string_feature_val)\n",
    "        elif feature_type == 'Fractional':\n",
    "            tmp_dict[f['FeatureName']] = float(string_feature_val)\n",
    "        else:\n",
    "            tmp_dict[f['FeatureName']] = string_feature_val\n",
    "\n",
    "    return tmp_dict\n",
    "\n",
    "\n",
    "def get_feature_definitions(fg_name):\n",
    "    fgdescription = sagemaker_client.describe_feature_group(FeatureGroupName=fg_name)    \n",
    "    return fgdescription \n",
    "\n",
    "def get_online_feature_group_records(fg_name, id_value_list):\n",
    "    feature_defs = get_feature_definitions(fg_name)['FeatureDefinitions']\n",
    "    feature_types = {}\n",
    "    feature_names = []\n",
    "    for fd in feature_defs:\n",
    "        feature_names.append(fd['FeatureName'])\n",
    "        feature_types[fd['FeatureName']] = fd['FeatureType']\n",
    "        \n",
    "    results = []\n",
    "    \n",
    "    identifiers = []\n",
    "    ids_list = []\n",
    "    for curr_id in id_value_list:\n",
    "        record_identifier_value = str(curr_id)\n",
    "        ids_list.append(record_identifier_value)\n",
    "    \n",
    "    identifiers.append({'FeatureGroupName': fg_name,\n",
    "                        'RecordIdentifiersValueAsString': ids_list,\n",
    "                        'FeatureNames': feature_names})\n",
    "        \n",
    "    resp = featurestore_runtime.batch_get_record(Identifiers=identifiers)\n",
    "    \n",
    "    for rec_dict in resp['Records']:\n",
    "        results.append(_record_to_dict(rec_dict['Record'], feature_types))\n",
    "\n",
    "    return results\n",
    "\n",
    "def get_number_of_products_in_feature_set(dict):\n",
    "    record_count = 0\n",
    "    for i in enumerate(dict):\n",
    "        record_count += 1\n",
    "    return record_count"
   ]
  },
  {
   "cell_type": "code",
   "execution_count": null,
   "id": "ba9dc10a",
   "metadata": {
    "tags": []
   },
   "outputs": [],
   "source": [
    "customer_record = get_online_feature_group_records(test_feature_group_name, ['1'])"
   ]
  },
  {
   "cell_type": "code",
   "execution_count": null,
   "id": "7009b943",
   "metadata": {
    "tags": []
   },
   "outputs": [],
   "source": [
    "record = customer_record[0]"
   ]
  },
  {
   "cell_type": "code",
   "execution_count": null,
   "id": "caa0850a",
   "metadata": {
    "tags": []
   },
   "outputs": [],
   "source": [
    "record.pop('PRICE')\n",
    "record.pop('event_time')\n",
    "record.pop('record_id')"
   ]
  },
  {
   "cell_type": "code",
   "execution_count": null,
   "id": "28325b2d",
   "metadata": {
    "tags": []
   },
   "outputs": [],
   "source": [
    "payload = \",\".join(str(record[key]) for key in customer_record[0])"
   ]
  },
  {
   "cell_type": "code",
   "execution_count": null,
   "id": "78bc5175",
   "metadata": {
    "tags": []
   },
   "outputs": [],
   "source": [
    "payload"
   ]
  },
  {
   "cell_type": "code",
   "execution_count": null,
   "id": "df44576b",
   "metadata": {
    "tags": []
   },
   "outputs": [],
   "source": [
    "predictor.predict(payload)"
   ]
  },
  {
   "cell_type": "code",
   "execution_count": null,
   "id": "11b753cc",
   "metadata": {
    "tags": []
   },
   "outputs": [],
   "source": [
    "predictor.delete_predictor(delete_endpoint_config=True)"
   ]
  }
 ],
 "metadata": {
  "instance_type": "ml.t3.medium",
  "kernelspec": {
   "display_name": "Python 3 (Data Science)",
   "language": "python",
   "name": "python3__SAGEMAKER_INTERNAL__arn:aws:sagemaker:us-east-1:081325390199:image/datascience-1.0"
  },
  "language_info": {
   "codemirror_mode": {
    "name": "ipython",
    "version": 3
   },
   "file_extension": ".py",
   "mimetype": "text/x-python",
   "name": "python",
   "nbconvert_exporter": "python",
   "pygments_lexer": "ipython3",
   "version": "3.7.10"
  }
 },
 "nbformat": 4,
 "nbformat_minor": 5
}
